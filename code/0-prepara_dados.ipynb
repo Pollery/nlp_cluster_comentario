{
 "cells": [
  {
   "cell_type": "code",
   "execution_count": 1,
   "metadata": {
    "tags": []
   },
   "outputs": [],
   "source": [
    "import pandas as pd\n",
    "import os\n",
    "import json"
   ]
  },
  {
   "cell_type": "code",
   "execution_count": 4,
   "metadata": {
    "tags": []
   },
   "outputs": [
    {
     "name": "stdout",
     "output_type": "stream",
     "text": [
      "./data/raw/json/reviews_100k_p0.json\n",
      "./data/raw/json/reviews_100k_p1.json\n",
      "./data/raw/json/reviews_100k_p2.json\n",
      "./data/raw/json/reviews_100k_p3.json\n",
      "./data/raw/json/reviews_100k_p4.json\n",
      "./data/raw/json/reviews_100k_p5.json\n",
      "./data/raw/json/reviews_100k_p6.json\n",
      "./data/raw/json/reviews_100k_p7.json\n",
      "./data/raw/json/reviews_100k_p8.json\n",
      "./data/raw/json/reviews_100k_p9.json\n",
      "./data/raw/json/reviews_100k_p10.json\n",
      "./data/raw/json/reviews_100k_p11.json\n"
     ]
    }
   ],
   "source": [
    "# Juntando bancos de dados\n",
    "raw_data = \"../data/raw/json/reviews_100k_p\"\n",
    "data = []\n",
    "for file in [raw_data + str(i) + \".json\" for i in range(12)]:\n",
    "    print(file)\n",
    "    with open(file, \"r\", encoding=\"utf-8\") as read_file:\n",
    "        _json = json.load(read_file)\n",
    "    data = data + _json[\"data\"]\n"
   ]
  },
  {
   "cell_type": "code",
   "execution_count": 6,
   "metadata": {
    "tags": []
   },
   "outputs": [],
   "source": [
    "if os.path.isfile(f\"../data/raw/json/reviews_data.json\") == False:\n",
    "    with open(\n",
    "        f\"../data/raw/json/reviews_data.json\", \"w\", encoding=\"utf-8\"\n",
    "    ) as f:\n",
    "        json.dump(data, f)\n",
    "else:\n",
    "    file = f\"../data/raw/json/reviews_data.json\"\n",
    "    with open(file, \"r\", encoding=\"utf-8\") as read_file:\n",
    "        data = json.load(read_file)\n"
   ]
  },
  {
   "cell_type": "code",
   "execution_count": 7,
   "metadata": {
    "tags": []
   },
   "outputs": [],
   "source": [
    "df_comments = pd.DataFrame(\n",
    "    {\n",
    "        \"id_\": [data[i][\"_id\"] for i in range(len(data))],\n",
    "        \"id_user\": [data[i][\"reviewId\"] for i in range(len(data))],\n",
    "        \"comment\": [data[i][\"comment\"][\"text\"] for i in range(len(data))],\n",
    "        \"score\": [data[i][\"comment\"][\"score\"] for i in range(len(data))],\n",
    "        \"date\": [data[i][\"comment\"][\"date\"] for i in range(len(data))],\n",
    "        \"dateISO\": [data[i][\"dateISO\"] for i in range(len(data))],\n",
    "        \"loja\": [data[i][\"loja\"] for i in range(len(data))],\n",
    "    }\n",
    ")\n"
   ]
  },
  {
   "cell_type": "code",
   "execution_count": 8,
   "metadata": {
    "tags": []
   },
   "outputs": [
    {
     "data": {
      "text/html": [
       "<div>\n",
       "<style scoped>\n",
       "    .dataframe tbody tr th:only-of-type {\n",
       "        vertical-align: middle;\n",
       "    }\n",
       "\n",
       "    .dataframe tbody tr th {\n",
       "        vertical-align: top;\n",
       "    }\n",
       "\n",
       "    .dataframe thead th {\n",
       "        text-align: right;\n",
       "    }\n",
       "</style>\n",
       "<table border=\"1\" class=\"dataframe\">\n",
       "  <thead>\n",
       "    <tr style=\"text-align: right;\">\n",
       "      <th></th>\n",
       "      <th>id_</th>\n",
       "      <th>id_user</th>\n",
       "      <th>comment</th>\n",
       "      <th>score</th>\n",
       "      <th>date</th>\n",
       "      <th>dateISO</th>\n",
       "      <th>loja</th>\n",
       "    </tr>\n",
       "  </thead>\n",
       "  <tbody>\n",
       "    <tr>\n",
       "      <th>0</th>\n",
       "      <td>7449540bc70129b8d3f3b9b52518d2b63153a1c478a04a...</td>\n",
       "      <td>gp:AOqpTOHH0w2W6OJvZ2FdPq9jhSA3_XjU1X7ieQwLQQq...</td>\n",
       "      <td>O problema desse aplicativo é pra tudo tem que...</td>\n",
       "      <td>4</td>\n",
       "      <td>1628522359000</td>\n",
       "      <td>2021-08-09T12:19:19.000Z</td>\n",
       "      <td>google</td>\n",
       "    </tr>\n",
       "    <tr>\n",
       "      <th>1</th>\n",
       "      <td>1f6e19e2ff5ef2174dbeda3463bb594a109fe338055d95...</td>\n",
       "      <td>gp:AOqpTOHT1Gmr1KcvxzxZpseLfJ2xRbFu5eMjlRCTMcG...</td>\n",
       "      <td>muito bom 👏👏👏</td>\n",
       "      <td>4</td>\n",
       "      <td>1628522260000</td>\n",
       "      <td>2021-08-09T12:17:40.000Z</td>\n",
       "      <td>google</td>\n",
       "    </tr>\n",
       "    <tr>\n",
       "      <th>2</th>\n",
       "      <td>ad2f59b581745c6013012b400d146c354ec8a5fd3c83a7...</td>\n",
       "      <td>gp:AOqpTOH86LP8rIyU1hKCCQUHPXy2K277Qg3VK0YYCZn...</td>\n",
       "      <td>APP estável, prático e leve. Muito bom.</td>\n",
       "      <td>5</td>\n",
       "      <td>1628522212000</td>\n",
       "      <td>2021-08-09T12:16:52.000Z</td>\n",
       "      <td>google</td>\n",
       "    </tr>\n",
       "    <tr>\n",
       "      <th>3</th>\n",
       "      <td>d07717ef419bdc8bc3cc785c3d848b30c5b1d9d8e73724...</td>\n",
       "      <td>gp:AOqpTOHxYstpRmwLaUD7E7Y53ymz7x46GrMaE3qGdCG...</td>\n",
       "      <td>Aplicativo horrível pra tudo tem que ir no cai...</td>\n",
       "      <td>1</td>\n",
       "      <td>1628522061000</td>\n",
       "      <td>2021-08-09T12:14:21.000Z</td>\n",
       "      <td>google</td>\n",
       "    </tr>\n",
       "    <tr>\n",
       "      <th>4</th>\n",
       "      <td>aa4f3e7d6677eefbc7adf36c5a3eb0d77e1943457c1319...</td>\n",
       "      <td>gp:AOqpTOHlSyVRHuubOVtDI6o0BD7dWSCPNf3CiUnz_w-...</td>\n",
       "      <td>ótimo banco!</td>\n",
       "      <td>5</td>\n",
       "      <td>1628522049000</td>\n",
       "      <td>2021-08-09T12:14:09.000Z</td>\n",
       "      <td>google</td>\n",
       "    </tr>\n",
       "  </tbody>\n",
       "</table>\n",
       "</div>"
      ],
      "text/plain": [
       "                                                 id_  \\\n",
       "0  7449540bc70129b8d3f3b9b52518d2b63153a1c478a04a...   \n",
       "1  1f6e19e2ff5ef2174dbeda3463bb594a109fe338055d95...   \n",
       "2  ad2f59b581745c6013012b400d146c354ec8a5fd3c83a7...   \n",
       "3  d07717ef419bdc8bc3cc785c3d848b30c5b1d9d8e73724...   \n",
       "4  aa4f3e7d6677eefbc7adf36c5a3eb0d77e1943457c1319...   \n",
       "\n",
       "                                             id_user  \\\n",
       "0  gp:AOqpTOHH0w2W6OJvZ2FdPq9jhSA3_XjU1X7ieQwLQQq...   \n",
       "1  gp:AOqpTOHT1Gmr1KcvxzxZpseLfJ2xRbFu5eMjlRCTMcG...   \n",
       "2  gp:AOqpTOH86LP8rIyU1hKCCQUHPXy2K277Qg3VK0YYCZn...   \n",
       "3  gp:AOqpTOHxYstpRmwLaUD7E7Y53ymz7x46GrMaE3qGdCG...   \n",
       "4  gp:AOqpTOHlSyVRHuubOVtDI6o0BD7dWSCPNf3CiUnz_w-...   \n",
       "\n",
       "                                             comment  score           date  \\\n",
       "0  O problema desse aplicativo é pra tudo tem que...      4  1628522359000   \n",
       "1                                      muito bom 👏👏👏      4  1628522260000   \n",
       "2            APP estável, prático e leve. Muito bom.      5  1628522212000   \n",
       "3  Aplicativo horrível pra tudo tem que ir no cai...      1  1628522061000   \n",
       "4                                       ótimo banco!      5  1628522049000   \n",
       "\n",
       "                    dateISO    loja  \n",
       "0  2021-08-09T12:19:19.000Z  google  \n",
       "1  2021-08-09T12:17:40.000Z  google  \n",
       "2  2021-08-09T12:16:52.000Z  google  \n",
       "3  2021-08-09T12:14:21.000Z  google  \n",
       "4  2021-08-09T12:14:09.000Z  google  "
      ]
     },
     "metadata": {},
     "output_type": "display_data"
    },
    {
     "name": "stdout",
     "output_type": "stream",
     "text": [
      "(1200000, 7)\n"
     ]
    }
   ],
   "source": [
    "display(df_comments.head())\n",
    "print(df_comments.shape)\n"
   ]
  },
  {
   "cell_type": "code",
   "execution_count": 10,
   "metadata": {
    "tags": []
   },
   "outputs": [],
   "source": [
    "df_comments.to_csv(\n",
    "    f\"../data/transformed/comments.csv\", index=False, encoding=\"utf-8\"\n",
    ")\n"
   ]
  },
  {
   "cell_type": "code",
   "execution_count": null,
   "metadata": {},
   "outputs": [],
   "source": []
  }
 ],
 "metadata": {
  "kernelspec": {
   "display_name": "Python 3.10.7 64-bit",
   "language": "python",
   "name": "python3"
  },
  "language_info": {
   "codemirror_mode": {
    "name": "ipython",
    "version": 3
   },
   "file_extension": ".py",
   "mimetype": "text/x-python",
   "name": "python",
   "nbconvert_exporter": "python",
   "pygments_lexer": "ipython3",
   "version": "3.10.7"
  },
  "vscode": {
   "interpreter": {
    "hash": "26de051ba29f2982a8de78e945f0abaf191376122a1563185a90213a26c5da77"
   }
  }
 },
 "nbformat": 4,
 "nbformat_minor": 4
}
