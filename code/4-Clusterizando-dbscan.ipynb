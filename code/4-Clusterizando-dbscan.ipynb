{
 "cells": [
  {
   "cell_type": "code",
   "execution_count": 1,
   "metadata": {},
   "outputs": [],
   "source": [
    "\n",
    "#* umap https://towardsdatascience.com/customer-reviews-analysis-using-nlp-the-netflix-use-case-92b3645770e1\n",
    "import pandas as pd\n",
    "import numpy as np\n",
    "import os\n",
    "\n",
    "\n",
    "%matplotlib inline\n",
    "\n"
   ]
  },
  {
   "cell_type": "code",
   "execution_count": 2,
   "metadata": {},
   "outputs": [],
   "source": [
    "if os.path.exists(f\"../data/tmp/tmp120000.csv\") and os.path.exists(\n",
    "    f\"../data/tmp/sample120000.csv\"\n",
    "):\n",
    "    tmp_df = pd.read_csv(f\"../data/tmp/tmp120000.csv\")\n",
    "    sample_df = pd.read_csv(f\"../data/tmp/sample120000.csv\")\n",
    "    sample_df.rename(columns={\"Unnamed: 0\": \"index\"}, inplace=True)\n",
    "    sample_df.drop([\"Unnamed: 0.1\"], axis=1, inplace=True)\n",
    "    # sample_df.set_index(\"Unnamed: 0\",inplace=True)\n"
   ]
  },
  {
   "cell_type": "code",
   "execution_count": 3,
   "metadata": {},
   "outputs": [],
   "source": [
    "# * Juntando banco com banco de vetores pós bert (pooled)\n",
    "# * Tirando Linhas com NA\n",
    "\n",
    "\n",
    "sample_df_with_arrays = pd.concat([sample_df, tmp_df], axis=1)\n",
    "sample_df_with_arrays.dropna(inplace=True)\n",
    "sample_df_with_arrays.set_index(\"index\", inplace=True)\n"
   ]
  },
  {
   "cell_type": "code",
   "execution_count": 4,
   "metadata": {},
   "outputs": [],
   "source": [
    "# * Lista com variáveis que não vamos usar na modelagem\n",
    "# * pegando dummies das lojas\n",
    "\n",
    "var_not_sel = [\n",
    "    \"id_\",\n",
    "    \"id_user\",\n",
    "    \"date\",\n",
    "    \"comment_size\",\n",
    "    \"comment_with_date\",\n",
    "    \"comment_with_specific_hour\",\n",
    "    \"comment_mentions_hour\",\n",
    "    \"comment_mentions_day\",\n",
    "    \"comment_number_of_dates\",\n",
    "    \"comment_number_day\",\n",
    "    \"comment_number_hour\",\n",
    "    \"comment_number_specific_hour\",\n",
    "    \"comment\",\n",
    "    \"clean_comment_word_count\",\n",
    "]\n",
    "\n",
    "sample_df_with_arrays.drop(var_not_sel, axis=1, inplace=True)\n",
    "sample_df_with_arrays[\"loja\"] = pd.Categorical(sample_df_with_arrays[\"loja\"])\n",
    "sample_df_with_arrays = pd.concat(\n",
    "    [sample_df_with_arrays, pd.get_dummies(sample_df_with_arrays[\"loja\"])],\n",
    "    axis=1,\n",
    ")\n",
    "sample_df_with_arrays.drop([\"loja\"], inplace=True, axis=1)\n",
    "sample_df_with_arrays[\"score\"] = pd.Categorical(sample_df_with_arrays[\"score\"])\n"
   ]
  },
  {
   "cell_type": "code",
   "execution_count": 5,
   "metadata": {},
   "outputs": [],
   "source": [
    "from sklearn.preprocessing import StandardScaler\n",
    "\n",
    "data = sample_df_with_arrays.drop([\"comment_clean\"], axis=1)\n",
    "X = StandardScaler().fit_transform(data)\n"
   ]
  },
  {
   "cell_type": "code",
   "execution_count": 6,
   "metadata": {},
   "outputs": [],
   "source": [
    "from sklearn.cluster import DBSCAN\n",
    "\n",
    "db = DBSCAN(eps=3, min_samples=5).fit(X)\n",
    "core_samples_mask = np.zeros_like(db.labels_, dtype=bool)\n",
    "core_samples_mask[db.core_sample_indices_] = True\n",
    "labels = db.labels_\n"
   ]
  },
  {
   "cell_type": "code",
   "execution_count": 7,
   "metadata": {},
   "outputs": [],
   "source": [
    "# Number of clusters in labels, ignoring noise if present.\n",
    "n_clusters_ = len(set(labels)) - (1 if -1 in labels else 0)\n",
    "n_noise_ = list(labels).count(-1)\n"
   ]
  },
  {
   "cell_type": "code",
   "execution_count": 8,
   "metadata": {},
   "outputs": [
    {
     "name": "stdout",
     "output_type": "stream",
     "text": [
      "Estimated number of clusters: 227\n",
      "Estimated number of noise points: 117962\n",
      "Silhouette Coefficient: -0.318\n"
     ]
    }
   ],
   "source": [
    "from sklearn import metrics\n",
    "\n",
    "print(\"Estimated number of clusters: %d\" % n_clusters_)\n",
    "print(\"Estimated number of noise points: %d\" % n_noise_)\n",
    "print(\"Silhouette Coefficient: %0.3f\" % metrics.silhouette_score(X, labels))\n"
   ]
  },
  {
   "cell_type": "code",
   "execution_count": 9,
   "metadata": {},
   "outputs": [],
   "source": [
    "import matplotlib.pyplot as plt\n",
    "\n",
    "# Black removed and is used for noise instead.\n",
    "unique_labels = set(labels)\n",
    "colors = [\n",
    "    plt.cm.Spectral(each) for each in np.linspace(0, 1, len(unique_labels))\n",
    "]\n"
   ]
  },
  {
   "cell_type": "code",
   "execution_count": 10,
   "metadata": {},
   "outputs": [
    {
     "data": {
      "image/png": "[encoded data removed]",
      "text/plain": [
       "<Figure size 432x288 with 1 Axes>"
      ]
     },
     "metadata": {
      "needs_background": "light"
     },
     "output_type": "display_data"
    }
   ],
   "source": [
    "for k, col in zip(unique_labels, colors):\n",
    "    if k == -1:\n",
    "        # Black used for noise.\n",
    "        col = [0, 0, 0, 1]\n",
    "\n",
    "    class_member_mask = labels == k\n",
    "\n",
    "    xy = X[class_member_mask & core_samples_mask]\n",
    "    plt.plot(\n",
    "        xy[:, 0],\n",
    "        xy[:, 1],\n",
    "        \"o\",\n",
    "        markerfacecolor=tuple(col),\n",
    "        markeredgecolor=\"k\",\n",
    "        markersize=14,\n",
    "    )\n",
    "\n",
    "    xy = X[class_member_mask & ~core_samples_mask]\n",
    "    plt.plot(\n",
    "        xy[:, 0],\n",
    "        xy[:, 1],\n",
    "        \"o\",\n",
    "        markerfacecolor=tuple(col),\n",
    "        markeredgecolor=\"k\",\n",
    "        markersize=6,\n",
    "    )\n",
    "\n",
    "plt.title(\"Estimated number of clusters: %d\" % n_clusters_)\n",
    "plt.show()\n"
   ]
  },
  {
   "cell_type": "code",
   "execution_count": 11,
   "metadata": {},
   "outputs": [],
   "source": [
    "np.unique(labels, return_counts=True)\n",
    "df_final = pd.concat(\n",
    "    [\n",
    "        sample_df_with_arrays.reset_index(),\n",
    "        pd.DataFrame(labels, columns=[\"label\"]),\n",
    "    ],\n",
    "    axis=1,\n",
    ")\n",
    "df_final.set_index(\"index\", inplace=True)\n"
   ]
  },
  {
   "cell_type": "code",
   "execution_count": 12,
   "metadata": {},
   "outputs": [],
   "source": [
    "import hdbscan"
   ]
  },
  {
   "cell_type": "code",
   "execution_count": 13,
   "metadata": {},
   "outputs": [],
   "source": [
    "clusterer = hdbscan.HDBSCAN(min_cluster_size=5, gen_min_span_tree=True)\n",
    "clusterer.fit(X)\n"
   ]
  },
  {
   "cell_type": "code",
   "execution_count": null,
   "metadata": {},
   "outputs": [],
   "source": [
    "import numpy as np\n",
    "import matplotlib.pyplot as plt\n",
    "import seaborn as sns\n",
    "import sklearn.datasets as data\n",
    "%matplotlib inline\n",
    "sns.set_context('poster')\n",
    "sns.set_style('white')\n",
    "sns.set_color_codes()\n",
    "plot_kwds = {'alpha' : 0.5, 's' : 80, 'linewidths':0}\n",
    "clusterer.single_linkage_tree_.plot(cmap='viridis', colorbar=True)"
   ]
  }
 ],
 "metadata": {
  "kernelspec": {
   "display_name": "Python 3.8.11 ('ProjetoBBUX')",
   "language": "python",
   "name": "python3"
  },
  "language_info": {
   "codemirror_mode": {
    "name": "ipython",
    "version": 3
   },
   "file_extension": ".py",
   "mimetype": "text/x-python",
   "name": "python",
   "nbconvert_exporter": "python",
   "pygments_lexer": "ipython3",
   "version": "3.8.11"
  },
  "orig_nbformat": 4,
  "vscode": {
   "interpreter": {
    "hash": "e930f1cdd4edf385a946086da74151c6108f09f924ce0d37504f1a91a811288e"
   }
  }
 },
 "nbformat": 4,
 "nbformat_minor": 2
}
